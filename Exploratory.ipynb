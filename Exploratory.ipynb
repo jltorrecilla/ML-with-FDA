{
 "cells": [
  {
   "cell_type": "markdown",
   "metadata": {},
   "source": [
    "<div style=\"font-weight: bold; color:#5D8AA8\" align=\"center\">\n",
    "    <div style=\"font-size: xx-large\">Machine Learning with Funcitonal Data</div><br>\n",
    "    <div style=\"font-size: x-large; color:gray\">Descriptive statistics and preprocessing</div><br>\n",
    "    <div style=\"font-size: large\">José Luis Torrecilla Noguerales - Universidad Autónoma de Madrid</div><br></div><hr>\n",
    "</div>"
   ]
  },
  {
   "cell_type": "markdown",
   "metadata": {},
   "source": [
    "**Initial setting**: This cell defines the Notebook setting"
   ]
  },
  {
   "cell_type": "code",
   "execution_count": null,
   "metadata": {},
   "outputs": [],
   "source": [
    "%%html\n",
    "<style>\n",
    "    .qst {background-color: #b1cee3; padding:10px; border-radius: 5px; border: solid 2px #5D8AA8;}\n",
    "    .qst:before {font-weight: bold; content: \"Questions\"; display: block; margin: 0px 10px 10px 10px;}\n",
    "    h1, h2, h3 {color: #5D8AA8;}\n",
    "    .text_cell_render p {text-align: justify; text-justify: inter-word;}\n",
    "</style>"
   ]
  },
  {
   "cell_type": "markdown",
   "metadata": {},
   "source": [
    "**Packages to use:**"
   ]
  },
  {
   "cell_type": "code",
   "execution_count": null,
   "metadata": {},
   "outputs": [],
   "source": [
    "import skfda\n",
    "import matplotlib.pyplot as plt\n",
    "import sklearn"
   ]
  },
  {
   "cell_type": "markdown",
   "metadata": {},
   "source": [
    "We will illustrate these methods with our well-known *AEMET* dataset. In particular, we will use the temperature curves."
   ]
  },
  {
   "cell_type": "code",
   "execution_count": null,
   "metadata": {},
   "outputs": [],
   "source": [
    "X, _ = skfda.datasets.fetch_aemet(return_X_y=True)\n",
    "\n",
    "X = X.coordinates[0] #Selecting temperatures only\n",
    "X.plot()\n",
    "plt.show()"
   ]
  },
  {
   "cell_type": "markdown",
   "metadata": {},
   "source": [
    "# Visualization tools and outlier detection\n",
    "\n",
    "Visualization tools can be used to gain insight into the data. In particular, trends, salient features, outliers, and other patterns in the data can be identified simply by inspection.  The package *scikit-fda* provides a number of interactive tools for data visualization and outlier detection. Their implementation utilizes the functionality provided by *matplotlib*.\n",
    "\n",
    "### Summary statistics\n",
    "Common summary statistics, such as the sample mean function and the sample covariance function can be estimated using the tools provided by **scikit-fda**. Consider a set of functional observations $\\left\\{ X_{i}(t) \\right\\}_{i=1}^{n}$. The sample mean, \n",
    "\\begin{equation}\\label{eq:mean}\n",
    "\t\\hat\\mu(t) = \\frac{1}{n}\\sum_{i=1}^{n} X_{i}(t),\n",
    "\\end{equation}\n",
    "can be computed by applying the function *mean()* to the *FData* object in which the data are stored. The functional observations can be either in discrete form or in a basis representation. The resulting mean function is a *FData* object of the same type as the input (i.e., discretized or in a basis representation).\n",
    "\n",
    "The sample covariance function $\\hat k$,\n",
    "\\begin{equation}\\label{eq:covariance}\n",
    "\t\\hat k(t, s) = \\frac{1}{n - 1}\\sum_{i=1}^{n} (X_{i}(t) - \\hat\\mu(t))(X_i(s) - \\hat\\mu(s)),\n",
    "\\end{equation}\n",
    "can be computed applying the function *cov()* to the corresponding *FData* object. Similarly, the function *var()* can be used to computed the sample variance, $\\hat k(t, t)$.\n",
    "Irrespective of the representation of the functional observations, the sample variance and covariance are returned in discretized form.\n",
    "Instead of the functions *mean*, *cov* and *var*, the *FData* methods of the same name can be used to compute these summary statistics.\n",
    "\n",
    "The package scikit-fda provides support for the computation of robust statistics. Robust\n",
    "statistics may provide a better characterization of the data than non-robust ones (e.g., the\n",
    "mean or the covariance functions), especially in the presence of outliers. One of the most\n",
    "important robust statistics is the geometric median\n",
    "\\begin{equation}\\label{eq:geometric_median}\n",
    "\tM = \\underset{z \\in \\mathcal{F}}{\\arg \\min} \\sum_{i=1}^{n} \\left \\| x_i-z \\right \\|.\n",
    "\\end{equation}\n",
    "It can be computed with the function **geometric_median()**. Alternatively, the median\n",
    "can be defined as the deepest point in the sample. Different depth measures yield differ-\n",
    "ent definitions of the median. These types of medians can be computed with the function\n",
    "**depth_based_median()**.\n",
    "A trimmed mean is a robust version of the standard mean in which the most outlying functional\n",
    "observations (the ones with the lowest depth values) are discarded. In scikit-fda, the trimmed\n",
    "mean is implemented in function **trim_mean()**."
   ]
  },
  {
   "cell_type": "code",
   "execution_count": null,
   "metadata": {},
   "outputs": [],
   "source": [
    "import numpy as np\n",
    "import skfda.exploratory.stats as stats\n",
    "\n",
    "from skfda.exploratory.depth import ModifiedBandDepth as MBD\n",
    "from skfda.exploratory.depth import BandDepth as BD\n",
    "\n",
    "mean = X.mean() #sample mean\n",
    "var = X.var()   #sample variance\n",
    "std = np.sqrt(var)  #sample standard deviation\n",
    "trim_mean = stats.trim_mean(X, 0.05)  #trimmed mean\n",
    "geo_median = stats.geometric_median(X)  #geometric median\n",
    "depth_median = stats.depth_based_median(X, depth_method=MBD())  \n",
    "\n",
    "fig, axes = plt.subplots(1, 1, figsize=(10, 6))\n",
    "X.plot(fig=fig, color=\"grey\", alpha=0.2)\n",
    "axes.fill_between(\n",
    "    X.grid_points[0],\n",
    "    (mean-std).data_matrix[0, ..., 0],\n",
    "    (mean+std).data_matrix[0, ..., 0],\n",
    "    alpha=0.3,\n",
    ")\n",
    "\n",
    "mean.plot(fig=fig, label=\"mean\")\n",
    "trim_mean.plot(fig=fig, label=\"trimmed mean\")\n",
    "geo_median.plot(fig=fig, label=\"geometric median\")\n",
    "depth_median.plot(fig=fig, label=\"depth based median\")\n",
    "axes.legend(loc='lower right')\n",
    "fig.suptitle(None)"
   ]
  },
  {
   "cell_type": "markdown",
   "metadata": {},
   "source": [
    "### Functional boxplot\n",
    "\n",
    "This is a generalization of the univariate boxplot for functional data. The functional boxplot consists of a graph of the functional median (i.e., the deepest curve in the sample) surrounded by a central envelope, which encompasses the deepest $50\\%$ of the observations, and a maximum non-outlying envelope. The width of this outer envelope is determined by scaling the central one by a constant factor. This constant factor can be selected by the user. Its default value is $1.5$. In scikit-fda, the class **Boxplot** can be used to generate and customize functional boxplots. In this plot, a trajectory is marked as an outlier if it lies beyond the maximum non-outlying envelope for some interval. The class **BoxplotOutlierDetector** can be used for outlier detection based on this criterion. Some customizable elements of Boxplot objects are the depth measure, and the definition of centered bands that encompasses a user-specified fraction of the deepest observations. The following code provides an illustration of these functionalities with the *AEMET* dataset.\n",
    "\n",
    "By default, only the part of the outlier curves which falls out of the central regions is plotted. We want the entire curve to be shown, that is why the show_full_outliers parameter is set to True."
   ]
  },
  {
   "cell_type": "code",
   "execution_count": null,
   "metadata": {
    "scrolled": false
   },
   "outputs": [],
   "source": [
    "from skfda.exploratory.visualization import Boxplot\n",
    "from skfda.exploratory.depth import ModifiedBandDepth as MBD\n",
    "from skfda.exploratory.depth import BandDepth as BD\n",
    "\n",
    "boxplot = Boxplot(X)\n",
    "boxplot.show_full_outliers = True\n",
    "boxplot.plot()\n",
    "\n",
    "#The results depends on the Depth measure\n",
    "boxplot = Boxplot(X, depth_method=BD())\n",
    "boxplot.plot()\n",
    "\n",
    "#Customizable\n",
    "boxplot = Boxplot(X, prob=[0.75,0.5, 0.25])\n",
    "boxplot.plot()\n",
    "\n",
    "plt.show()"
   ]
  },
  {
   "cell_type": "markdown",
   "metadata": {},
   "source": [
    "<div class=\"qst\">\n",
    "\n",
    "* Is it a direct generalization of the classical boxplot?"
   ]
  },
  {
   "cell_type": "code",
   "execution_count": null,
   "metadata": {},
   "outputs": [],
   "source": [
    "boxplot.outliers"
   ]
  },
  {
   "cell_type": "code",
   "execution_count": null,
   "metadata": {},
   "outputs": [],
   "source": [
    "boxplot = Boxplot(X, depth_method=MBD(), factor=1)\n",
    "boxplot.plot()\n",
    "\n",
    "X.plot(group=boxplot.outliers.astype(int),\n",
    "       group_colors=[\"blue\", \"red\"],\n",
    "       group_names=[\"nonoutliers\", \"outliers\"])\n",
    "\n",
    "plt.show()"
   ]
  },
  {
   "cell_type": "markdown",
   "metadata": {},
   "source": [
    "### Magnitud-Shape plot\n",
    "\n",
    "Another tool for functional data visualization and outlier detection is the magnitude-shape plot (MS-plot) proposed by Dai and Genton (2018, 2019). In this method, the degree of outlyingness of a functional observation is characterized in terms of two quantities: the magnitude outlyingness (MO) and the shape outlyingness (VO). The MS-plot is the scatter plot of the values MO and VO for each functional observation. This two-dimensional representation of the data can be used, for instance, to identify clusters of functions, or detect potential outliers, either in shape or in magnitude.\n",
    "\n",
    "The following code can be used to display the magnitude-shape plot (MS-plot) for the temperature curves of the *AEMET* weather  dataset together with the original trajectories. Additionally, outliers are identified according to the MS-plot criterion and marked in red. The class **MagnitudeShapePlot** generates the MS-plot and uses internally the methods of the class **MSPlotOutlierDetector** for outlier detection. \n"
   ]
  },
  {
   "cell_type": "code",
   "execution_count": null,
   "metadata": {},
   "outputs": [],
   "source": [
    "from skfda.exploratory.visualization import MagnitudeShapePlot as MSplot\n",
    "\n",
    "ms_plot = MSplot(X)\n",
    "ms_plot.plot()\n",
    "\n",
    "fig = X.plot(group=ms_plot.outliers, group_colors=[\"blue\", \"red\"])\n",
    "ms_plot.outliers"
   ]
  },
  {
   "cell_type": "markdown",
   "metadata": {},
   "source": [
    "### Outliergram\n",
    "\n",
    "The class **Outliergram** provides an additional method for data visualization and detection of shape outliers (Arribas-Gil and Romo, 2014). The graph is defined in terms of two related quantities: the modified epigraph index (MEI) and the MBD. Each curve is represented as a point (MEI, MBD) in the scatter plot. The MEI of a trajectory is the average over time of the fraction of curves in the sample that lie above it. \n",
    "\n",
    "The outliergram takes advantage of the fact that points corresponding to typical functional observations lie on a parabola whose analytical form is known. This parabola is used as a reference for the identification of shape outliers. Specifically, the degree of outlyingness of a curve is quantified in terms of its vertical distance to the parabola. The scikit-fda’s classes **Outliergram** and **OutliergramOutlierDetection** can be used to generate the outliergram and to detect outliers by using this criterion, respectively. "
   ]
  },
  {
   "cell_type": "code",
   "execution_count": null,
   "metadata": {},
   "outputs": [],
   "source": [
    "from skfda.exploratory.visualization import Outliergram\n",
    "\n",
    "fig = X.plot()\n",
    "fig = Outliergram(X).plot()\n"
   ]
  },
  {
   "cell_type": "markdown",
   "metadata": {},
   "source": [
    "### Interactivity\n",
    "In addition to standard plotting capabilities, most graphs generated with *scikit-fda* incorporate some interactive features. For example, the cursor can be placed at a point in the graph to display the actual coordinate values and the label of the observation. In addition, if different plots are used for visual exploration of some functional dataset, selecting a particular curve in one plot highlights the corresponding curve in the other active plots. Finally, widgets such as sliders can be used to select curves by some property, such as the label of the observation, or their depth in the sample."
   ]
  },
  {
   "cell_type": "code",
   "execution_count": null,
   "metadata": {},
   "outputs": [],
   "source": [
    "%matplotlib widget\n",
    "from matplotlib.widgets import Slider\n",
    "\n",
    "from skfda.exploratory.visualization.representation import GraphPlot\n",
    "from skfda.exploratory.visualization import MultipleDisplay\n",
    "\n",
    "fig, axes = plt.subplots(2, 2, figsize=(8, 6))\n",
    "graph_plot = GraphPlot(X)\n",
    "ms_plot = MSplot(X)\n",
    "outliergram_plot = Outliergram(X)\n",
    "mbd = MBD()\n",
    "interactive_plot = MultipleDisplay(\n",
    "    [graph_plot, ms_plot, outliergram_plot],\n",
    "    criteria=mbd(X),\n",
    "    sliders=Slider,\n",
    "    label_sliders=[\"MBD\"],\n",
    "    fig=fig,\n",
    ")\n",
    "\n",
    "interactive_plot.plot()\n",
    "\n",
    "axes[0, 0].set_title(\"Trajectories\")\n",
    "axes[0, 1].set_title(\"MS-Plot\")\n",
    "axes[1, 0].set_title(\"Outliergram\")\n",
    "fig.suptitle(None)\n",
    "\n",
    "plt.show()"
   ]
  },
  {
   "cell_type": "code",
   "execution_count": null,
   "metadata": {
    "scrolled": false
   },
   "outputs": [],
   "source": [
    "X.coordinates[0].plot() #Selecting temperatures only\n",
    "plt.show()"
   ]
  },
  {
   "cell_type": "markdown",
   "metadata": {},
   "source": [
    "<div class=\"qst\">\n",
    "\n",
    "* Explore the effect of varying the number of elements in the basis and the type of basis.\n",
    "</div>"
   ]
  },
  {
   "cell_type": "markdown",
   "metadata": {},
   "source": [
    "# Registration\n",
    "\n",
    "Registration consists in applying transformations to the raw data so that the functional observations\n",
    "are properly aligned. There is a variety of reasons why misalignment can occur. In some\n",
    "cases, it is the result of errors in the measurement process. In others, the domain has to be\n",
    "warped because the functions depend on an internal parameter, which is different from the\n",
    "one observed. For periodic functions, such as the signal of a heartbeat, the starting time for\n",
    "the different measurements could be different. A number of strategies can be used for registration. For instance, maxima, minima, zeros, and other landmarks can be used as reference points for alignment. Alternatively, some measure of dispersion between the observations can\n",
    "be minimized.\n",
    "\n",
    "The simplest curve alignment procedure is landmark registration. This method only takes into account a discrete ammount of features of the curves which will be registered.\n",
    "\n",
    "We will use a dataset synthetically generated by **make_multimodal_samples()**, which in this case will be used to generate bimodal curves."
   ]
  },
  {
   "cell_type": "code",
   "execution_count": null,
   "metadata": {},
   "outputs": [],
   "source": [
    "fd = skfda.datasets.make_multimodal_samples(\n",
    "    n_samples=4,\n",
    "    n_modes=2,\n",
    "    std=0.002,\n",
    "    mode_std=0.005,\n",
    "    random_state=1,\n",
    ")\n",
    "fd.plot()\n",
    "plt.show()"
   ]
  },
  {
   "cell_type": "markdown",
   "metadata": {},
   "source": [
    "Because our dataset has been generated synthetically we can obtain the value of the landmarks using the function **make_multimodal_landmarks()**, but in general it will be necessary to use numerical or other methods to determine the location of the landmarks."
   ]
  },
  {
   "cell_type": "code",
   "execution_count": null,
   "metadata": {},
   "outputs": [],
   "source": [
    "landmarks = skfda.datasets.make_multimodal_landmarks(\n",
    "    n_samples=4,\n",
    "    n_modes=2,\n",
    "    std=0.002,\n",
    "    random_state=1,\n",
    ").squeeze()\n",
    "\n",
    "print(landmarks)"
   ]
  },
  {
   "cell_type": "markdown",
   "metadata": {},
   "source": [
    "The transformation will not be linear, and will be the result of applying a warping function to the time of our curves. \n",
    "After the identification of the landmarks asociated with the features of each of our curves we can construct the warping function with the function **landmark_elastic_registration_warping()**.\n",
    "\n",
    "In this case we will place the landmarks at -0.5 and 0.5."
   ]
  },
  {
   "cell_type": "code",
   "execution_count": null,
   "metadata": {},
   "outputs": [],
   "source": [
    "warping = skfda.preprocessing.registration.landmark_elastic_registration_warping(\n",
    "    fd,\n",
    "    landmarks,\n",
    "    location=[-0.5, 0.5],\n",
    ")\n",
    "\n",
    "# Plots warping\n",
    "fig = warping.plot()\n",
    "\n",
    "# Plot landmarks\n",
    "for i in range(fd.n_samples):\n",
    "    fig.axes[0].scatter([-0.5, 0.5], landmarks[i])"
   ]
  },
  {
   "cell_type": "markdown",
   "metadata": {},
   "source": [
    "Once we have the warping functions $h$, the registered curves can be obtained using function composition. Let \n",
    "$x(t)$ a curve, we can obtain the corresponding registered curve as $\\hat x(t) = x(h(t))$"
   ]
  },
  {
   "cell_type": "code",
   "execution_count": null,
   "metadata": {},
   "outputs": [],
   "source": [
    "fd_registered = fd.compose(warping)\n",
    "fig = fd_registered.plot()\n",
    "\n",
    "fig.axes[0].scatter([-0.5, 0.5], [1, 1])"
   ]
  },
  {
   "cell_type": "markdown",
   "metadata": {},
   "source": [
    "Finally, if we do not need the warping function we can obtain the registered curves directly using the function **landmark_elastic_registration()**.\n",
    "\n",
    "If the position of the new location of the landmarks is not specified the mean position is taken."
   ]
  },
  {
   "cell_type": "code",
   "execution_count": null,
   "metadata": {},
   "outputs": [],
   "source": [
    "fd_registered = skfda.preprocessing.registration.landmark_elastic_registration(\n",
    "    fd,\n",
    "    landmarks,\n",
    ")\n",
    "fd_registered.plot()\n",
    "\n",
    "plt.scatter(np.mean(landmarks, axis=0), [1, 1])\n",
    "plt.show()"
   ]
  }
 ],
 "metadata": {
  "kernelspec": {
   "display_name": "Python 3 (ipykernel)",
   "language": "python",
   "name": "python3"
  },
  "language_info": {
   "codemirror_mode": {
    "name": "ipython",
    "version": 3
   },
   "file_extension": ".py",
   "mimetype": "text/x-python",
   "name": "python",
   "nbconvert_exporter": "python",
   "pygments_lexer": "ipython3",
   "version": "3.10.9"
  }
 },
 "nbformat": 4,
 "nbformat_minor": 4
}
